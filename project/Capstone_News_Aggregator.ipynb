{
 "cells": [
  {
   "cell_type": "markdown",
   "id": "arnnR7wDy_WD",
   "metadata": {
    "id": "arnnR7wDy_WD"
   },
   "source": [
    "# News Aggregation Natural Language Processing\n",
    "\n",
    "In this notebook, we'll be extending our understanding of sequence-based modeling by extracting sentiments and signals from real-world text data.\n",
    "\n",
    "Specifically, we'll be applying LSTM networks against corpuses of news headlines from the year 2012 to 2018 obtained from HuffPost and attempting to extract sentiment from specific reviews - both ones pulled from the dataset for testing and ones we create ourselves!"
   ]
  },
  {
   "cell_type": "markdown",
   "id": "vUxJVU61xFli",
   "metadata": {
    "id": "vUxJVU61xFli"
   },
   "source": [
    "#### 🔹 General Importations"
   ]
  },
  {
   "cell_type": "code",
   "execution_count": 1,
   "id": "de4824ce",
   "metadata": {
    "colab": {
     "base_uri": "https://localhost:8080/"
    },
    "id": "de4824ce",
    "outputId": "2450d1e4-df9e-46d8-bce0-ada65782cd03"
   },
   "outputs": [
    {
     "name": "stderr",
     "output_type": "stream",
     "text": [
      "[nltk_data] Downloading package stopwords to /Users/Temp/nltk_data...\n",
      "[nltk_data]   Package stopwords is already up-to-date!\n",
      "[nltk_data] Downloading package wordnet to /Users/Temp/nltk_data...\n",
      "[nltk_data]   Package wordnet is already up-to-date!\n"
     ]
    }
   ],
   "source": [
    "# General Data Science Dependencies\n",
    "import pandas as pd\n",
    "import matplotlib.pyplot as plt\n",
    "import seaborn as sns\n",
    "\n",
    "# Regular Expression Parsing and Word Cloud Mapping\n",
    "import re, wordcloud\n",
    "\n",
    "# Natural Language Toolkit\n",
    "import nltk\n",
    "import ssl\n",
    "\n",
    "try:\n",
    "    _create_unverified_https_context = ssl._create_unverified_context\n",
    "except AttributeError:\n",
    "    pass\n",
    "else:\n",
    "    ssl._create_default_https_context = _create_unverified_https_context\n",
    "    \n",
    "nltk.download(\"stopwords\")\n",
    "nltk.download(\"wordnet\")\n",
    "\n",
    "# Language Token Processing and Frequency Distribution Calculator\n",
    "from textblob import Word\n",
    "from collections import Counter\n",
    "\n",
    "# Generalized Machine/Deep Learning Codependencies\n",
    "from sklearn.preprocessing import LabelEncoder\n",
    "from sklearn.model_selection import train_test_split\n",
    "from sklearn.metrics import classification_report, confusion_matrix, accuracy_score\n",
    "\n",
    "# TensorFlow for Deep Learning\n",
    "import tensorflow as tf"
   ]
  },
  {
   "cell_type": "markdown",
   "id": "aEunR-WWxIEr",
   "metadata": {
    "id": "aEunR-WWxIEr"
   },
   "source": [
    "#### 🔹 Deep Learning Functional Initializations\n",
    "\n",
    "As good practice, let's initialize the specific tools we'll be using from `TensorFlow` to make things a little more readable moving forward."
   ]
  },
  {
   "cell_type": "code",
   "execution_count": 2,
   "id": "dbbbd9be",
   "metadata": {
    "id": "dbbbd9be"
   },
   "outputs": [],
   "source": [
    "# Stopwords: Generally Recognized Noisy Terms\n",
    "STOPWORDS = nltk.corpus.stopwords\n",
    "\n",
    "# Sequential Model Architecture\n",
    "Sequential = tf.keras.models.Sequential\n",
    "\n",
    "# Connective Layers with Dropout\n",
    "Dense = tf.keras.layers.Dense\n",
    "Dropout = tf.keras.layers.Dropout\n",
    "\n",
    "# Early Stopping Optimization\n",
    "EarlyStopping = tf.keras.callbacks.EarlyStopping\n",
    "\n",
    "# Natural Text-Based Language Processing Layers with RNN\n",
    "Embedding = tf.keras.layers.Embedding\n",
    "LSTM = tf.keras.layers.LSTM\n",
    "SpatialDropout1D = tf.keras.layers.SpatialDropout1D\n",
    "\n",
    "# Language Tokenization Filter\n",
    "Tokenizer = tf.keras.preprocessing.text.Tokenizer\n",
    "\n",
    "# Padding Function for Dataset Ingestion Preprocessing\n",
    "pad_sequences = tf.keras.preprocessing.sequence.pad_sequences"
   ]
  },
  {
   "cell_type": "markdown",
   "id": "HoJSNaIPxR_l",
   "metadata": {
    "id": "HoJSNaIPxR_l"
   },
   "source": [
    "#### 🔹 Data Loading and Preprocessing\n",
    "\n",
    "Let's first load and take a look at what data we're working with. "
   ]
  },
  {
   "cell_type": "code",
   "execution_count": 3,
   "id": "f57b2596",
   "metadata": {
    "colab": {
     "base_uri": "https://localhost:8080/",
     "height": 359
    },
    "id": "f57b2596",
    "outputId": "069540b8-fd47-46ff-b3c2-4d262e1d9667"
   },
   "outputs": [
    {
     "name": "stderr",
     "output_type": "stream",
     "text": [
      "/Library/Frameworks/Python.framework/Versions/3.7/lib/python3.7/site-packages/IPython/core/interactiveshell.py:3441: FutureWarning: The error_bad_lines argument has been deprecated and will be removed in a future version.\n",
      "\n",
      "\n",
      "  exec(code_obj, self.user_global_ns, self.user_ns)\n"
     ]
    },
    {
     "data": {
      "text/html": [
       "<div>\n",
       "<style scoped>\n",
       "    .dataframe tbody tr th:only-of-type {\n",
       "        vertical-align: middle;\n",
       "    }\n",
       "\n",
       "    .dataframe tbody tr th {\n",
       "        vertical-align: top;\n",
       "    }\n",
       "\n",
       "    .dataframe thead th {\n",
       "        text-align: right;\n",
       "    }\n",
       "</style>\n",
       "<table border=\"1\" class=\"dataframe\">\n",
       "  <thead>\n",
       "    <tr style=\"text-align: right;\">\n",
       "      <th></th>\n",
       "      <th>category</th>\n",
       "      <th>headline</th>\n",
       "      <th>authors</th>\n",
       "      <th>link</th>\n",
       "      <th>short_description</th>\n",
       "      <th>date</th>\n",
       "    </tr>\n",
       "  </thead>\n",
       "  <tbody>\n",
       "    <tr>\n",
       "      <th>0</th>\n",
       "      <td>CRIME</td>\n",
       "      <td>There Were 2 Mass Shootings In Texas Last Week...</td>\n",
       "      <td>Melissa Jeltsen</td>\n",
       "      <td>https://www.huffingtonpost.com/entry/texas-ama...</td>\n",
       "      <td>She left her husband. He killed their children...</td>\n",
       "      <td>2018-05-26</td>\n",
       "    </tr>\n",
       "    <tr>\n",
       "      <th>1</th>\n",
       "      <td>ENTERTAINMENT</td>\n",
       "      <td>Will Smith Joins Diplo And Nicky Jam For The 2...</td>\n",
       "      <td>Andy McDonald</td>\n",
       "      <td>https://www.huffingtonpost.com/entry/will-smit...</td>\n",
       "      <td>Of course it has a song.</td>\n",
       "      <td>2018-05-26</td>\n",
       "    </tr>\n",
       "    <tr>\n",
       "      <th>2</th>\n",
       "      <td>ENTERTAINMENT</td>\n",
       "      <td>Hugh Grant Marries For The First Time At Age 57</td>\n",
       "      <td>Ron Dicker</td>\n",
       "      <td>https://www.huffingtonpost.com/entry/hugh-gran...</td>\n",
       "      <td>The actor and his longtime girlfriend Anna Ebe...</td>\n",
       "      <td>2018-05-26</td>\n",
       "    </tr>\n",
       "    <tr>\n",
       "      <th>3</th>\n",
       "      <td>ENTERTAINMENT</td>\n",
       "      <td>Jim Carrey Blasts 'Castrato' Adam Schiff And D...</td>\n",
       "      <td>Ron Dicker</td>\n",
       "      <td>https://www.huffingtonpost.com/entry/jim-carre...</td>\n",
       "      <td>The actor gives Dems an ass-kicking for not fi...</td>\n",
       "      <td>2018-05-26</td>\n",
       "    </tr>\n",
       "    <tr>\n",
       "      <th>4</th>\n",
       "      <td>ENTERTAINMENT</td>\n",
       "      <td>Julianna Margulies Uses Donald Trump Poop Bags...</td>\n",
       "      <td>Ron Dicker</td>\n",
       "      <td>https://www.huffingtonpost.com/entry/julianna-...</td>\n",
       "      <td>The \"Dietland\" actress said using the bags is ...</td>\n",
       "      <td>2018-05-26</td>\n",
       "    </tr>\n",
       "  </tbody>\n",
       "</table>\n",
       "</div>"
      ],
      "text/plain": [
       "        category                                           headline  \\\n",
       "0          CRIME  There Were 2 Mass Shootings In Texas Last Week...   \n",
       "1  ENTERTAINMENT  Will Smith Joins Diplo And Nicky Jam For The 2...   \n",
       "2  ENTERTAINMENT    Hugh Grant Marries For The First Time At Age 57   \n",
       "3  ENTERTAINMENT  Jim Carrey Blasts 'Castrato' Adam Schiff And D...   \n",
       "4  ENTERTAINMENT  Julianna Margulies Uses Donald Trump Poop Bags...   \n",
       "\n",
       "           authors                                               link  \\\n",
       "0  Melissa Jeltsen  https://www.huffingtonpost.com/entry/texas-ama...   \n",
       "1    Andy McDonald  https://www.huffingtonpost.com/entry/will-smit...   \n",
       "2       Ron Dicker  https://www.huffingtonpost.com/entry/hugh-gran...   \n",
       "3       Ron Dicker  https://www.huffingtonpost.com/entry/jim-carre...   \n",
       "4       Ron Dicker  https://www.huffingtonpost.com/entry/julianna-...   \n",
       "\n",
       "                                   short_description        date  \n",
       "0  She left her husband. He killed their children...  2018-05-26  \n",
       "1                           Of course it has a song.  2018-05-26  \n",
       "2  The actor and his longtime girlfriend Anna Ebe...  2018-05-26  \n",
       "3  The actor gives Dems an ass-kicking for not fi...  2018-05-26  \n",
       "4  The \"Dietland\" actress said using the bags is ...  2018-05-26  "
      ]
     },
     "execution_count": 3,
     "metadata": {},
     "output_type": "execute_result"
    }
   ],
   "source": [
    "CORPUS = \"../dataset/News_Category_Dataset_v2.csv\"\n",
    "\n",
    "dataset = pd.read_csv(CORPUS, error_bad_lines=False)\n",
    "# removing entries with null values\n",
    "dataset = dataset.dropna()\n",
    "dataset.head()"
   ]
  },
  {
   "cell_type": "code",
   "execution_count": 15,
   "id": "e7273f7d",
   "metadata": {},
   "outputs": [],
   "source": [
    "# TODO: Take out categories, make categories even ('_')\n",
    "df = dataset[dataset['category'].isin(['POLITICS','WELLNESS','ENTERTAINMENT','TRAVEL','STYLE & BEAUTY','PARENTING',\n",
    "                        'HEALTHY LIVING','QUEER VOICES','FOOD & DRINK','BUSINESS','COMEDY','PARENTS','SPORTS'])]\n",
    "\n",
    "# count_class_12 = short_df[short_df['category'] == 'SPORTS'].value_counts()\n",
    "# for category in short_df['category'].unique():\n",
    "#     count = 0\n",
    "    \n",
    "#     if count < 12:\n",
    "#         df_class = short_df[short_df[str(category)] == count]\n",
    "#         df_class_under = df_class.sample(count_class_12)\n",
    "#         df_test_under = pd.concat([df_class_under], axis=0)\n",
    "#     else:\n",
    "#         df_test_under = pd.concat([df_class_12], axis=0)\n",
    "        \n",
    "#     count+=1"
   ]
  },
  {
   "cell_type": "code",
   "execution_count": 16,
   "id": "oeH6PyPe0hg7",
   "metadata": {
    "colab": {
     "base_uri": "https://localhost:8080/"
    },
    "id": "oeH6PyPe0hg7",
    "outputId": "9ff603ae-8b17-45c1-a0cd-7bacf811894c"
   },
   "outputs": [
    {
     "name": "stdout",
     "output_type": "stream",
     "text": [
      "13\n",
      "------------------------------\n",
      "['ENTERTAINMENT' 'POLITICS' 'COMEDY' 'QUEER VOICES' 'SPORTS' 'BUSINESS'\n",
      " 'TRAVEL' 'PARENTS' 'HEALTHY LIVING' 'WELLNESS' 'PARENTING'\n",
      " 'STYLE & BEAUTY' 'FOOD & DRINK']\n",
      "------------------------------\n",
      "POLITICS          26913\n",
      "WELLNESS          12827\n",
      "ENTERTAINMENT     12192\n",
      "TRAVEL             8011\n",
      "STYLE & BEAUTY     7111\n",
      "PARENTING          6408\n",
      "HEALTHY LIVING     5072\n",
      "QUEER VOICES       4669\n",
      "FOOD & DRINK       4413\n",
      "BUSINESS           4320\n",
      "COMEDY             3709\n",
      "PARENTS            3491\n",
      "SPORTS             3445\n",
      "Name: category, dtype: int64\n"
     ]
    }
   ],
   "source": [
    "print(df['category'].nunique())\n",
    "print('------------------------------')\n",
    "print(df['category'].unique())\n",
    "print('------------------------------')\n",
    "print(df['category'].value_counts())"
   ]
  },
  {
   "cell_type": "markdown",
   "id": "pzpzIGdlzoay",
   "metadata": {
    "id": "pzpzIGdlzoay"
   },
   "source": [
    "^^^^ TEXT ^^^^"
   ]
  },
  {
   "cell_type": "code",
   "execution_count": 5,
   "id": "Erlta1HgzoD0",
   "metadata": {
    "colab": {
     "base_uri": "https://localhost:8080/"
    },
    "id": "Erlta1HgzoD0",
    "outputId": "5464e9cc-5052-4d4d-aeeb-c333ac914743"
   },
   "outputs": [
    {
     "data": {
      "text/plain": [
       "headline    0\n",
       "category    0\n",
       "dtype: int64"
      ]
     },
     "execution_count": 5,
     "metadata": {},
     "output_type": "execute_result"
    }
   ],
   "source": [
    "FEATURES_IMPUTED = [\"headline\", \"category\"]\n",
    "\n",
    "processed = df[FEATURES_IMPUTED]\n",
    "processed.isnull().sum()"
   ]
  },
  {
   "cell_type": "markdown",
   "id": "2lzXV9ck-a4r",
   "metadata": {
    "id": "2lzXV9ck-a4r"
   },
   "source": []
  },
  {
   "cell_type": "markdown",
   "id": "lxeOoMaC6Rww",
   "metadata": {
    "id": "lxeOoMaC6Rww"
   },
   "source": [
    "#### 🔹 Language Processing for Data Ingestion"
   ]
  },
  {
   "cell_type": "code",
   "execution_count": 6,
   "id": "9txmiEXp6Tvg",
   "metadata": {
    "id": "9txmiEXp6Tvg"
   },
   "outputs": [],
   "source": [
    "def clean_corpus(data, stopwords, dtype=\"frame\", feature=\"verified_reviews\"):\n",
    "  \"\"\" Function to remove special characters, digits, stop words, \n",
    "  unimportant symbols, and other unnecessary noise from our dataset. \"\"\"\n",
    "  if dtype == \"frame\":\n",
    "    data[feature] = data[feature].apply(\n",
    "        lambda review: \" \".join(review.lower() for review in review.split())\n",
    "    )\n",
    "    data[feature] = data[feature].str.replace(\n",
    "        r\"[^A-Za-z0-9 ]\", r\"\",\n",
    "        regex=True\n",
    "    )\n",
    "    data[feature] = data[feature].str.replace(\n",
    "        \"\\d+\", \"\"\n",
    "    )\n",
    "    data[feature] = data[feature].apply(\n",
    "        lambda token: \" \".join(token for token in token.split() if token not in stopwords)\n",
    "    )\n",
    "    data[feature] = data[feature].apply(\n",
    "        lambda token: \" \".join([Word(token).lemmatize() for token in token.split()])\n",
    "    )\n",
    "  elif dtype == \"list\":\n",
    "    data = [\" \".join(review.lower() for review in review.split()) for review in data]\n",
    "    data = [re.sub(r\"[^A-Za-z0-9 ]\", r\"\", review) for review in data]\n",
    "    data = [re.sub(\"\\d+\", \"\", review) for review in data]\n",
    "    data = [\" \".join(token for token in token.split() if token not in stopwords) for token in data]\n",
    "    data = [\" \".join([Word(token).lemmatize() for token in token.split()]) for token in data]\n",
    "  return data"
   ]
  },
  {
   "cell_type": "markdown",
   "id": "fKAbTFhn6WVS",
   "metadata": {
    "id": "fKAbTFhn6WVS"
   },
   "source": [
    "^^^^ TEXT ^^^^"
   ]
  },
  {
   "cell_type": "code",
   "execution_count": 7,
   "id": "saZsrQ2z6WKJ",
   "metadata": {
    "colab": {
     "base_uri": "https://localhost:8080/"
    },
    "id": "saZsrQ2z6WKJ",
    "outputId": "b539b7a5-8803-4c38-d1d3-572f7f87cd56"
   },
   "outputs": [
    {
     "name": "stderr",
     "output_type": "stream",
     "text": [
      "/Library/Frameworks/Python.framework/Versions/3.7/lib/python3.7/site-packages/ipykernel_launcher.py:6: SettingWithCopyWarning: \n",
      "A value is trying to be set on a copy of a slice from a DataFrame.\n",
      "Try using .loc[row_indexer,col_indexer] = value instead\n",
      "\n",
      "See the caveats in the documentation: https://pandas.pydata.org/pandas-docs/stable/user_guide/indexing.html#returning-a-view-versus-a-copy\n",
      "  \n",
      "/Library/Frameworks/Python.framework/Versions/3.7/lib/python3.7/site-packages/ipykernel_launcher.py:10: SettingWithCopyWarning: \n",
      "A value is trying to be set on a copy of a slice from a DataFrame.\n",
      "Try using .loc[row_indexer,col_indexer] = value instead\n",
      "\n",
      "See the caveats in the documentation: https://pandas.pydata.org/pandas-docs/stable/user_guide/indexing.html#returning-a-view-versus-a-copy\n",
      "  # Remove the CWD from sys.path while we load stuff.\n",
      "/Library/Frameworks/Python.framework/Versions/3.7/lib/python3.7/site-packages/ipykernel_launcher.py:13: FutureWarning: The default value of regex will change from True to False in a future version.\n",
      "  del sys.path[0]\n",
      "/Library/Frameworks/Python.framework/Versions/3.7/lib/python3.7/site-packages/ipykernel_launcher.py:13: SettingWithCopyWarning: \n",
      "A value is trying to be set on a copy of a slice from a DataFrame.\n",
      "Try using .loc[row_indexer,col_indexer] = value instead\n",
      "\n",
      "See the caveats in the documentation: https://pandas.pydata.org/pandas-docs/stable/user_guide/indexing.html#returning-a-view-versus-a-copy\n",
      "  del sys.path[0]\n",
      "/Library/Frameworks/Python.framework/Versions/3.7/lib/python3.7/site-packages/ipykernel_launcher.py:16: SettingWithCopyWarning: \n",
      "A value is trying to be set on a copy of a slice from a DataFrame.\n",
      "Try using .loc[row_indexer,col_indexer] = value instead\n",
      "\n",
      "See the caveats in the documentation: https://pandas.pydata.org/pandas-docs/stable/user_guide/indexing.html#returning-a-view-versus-a-copy\n",
      "  app.launch_new_instance()\n",
      "/Library/Frameworks/Python.framework/Versions/3.7/lib/python3.7/site-packages/ipykernel_launcher.py:19: SettingWithCopyWarning: \n",
      "A value is trying to be set on a copy of a slice from a DataFrame.\n",
      "Try using .loc[row_indexer,col_indexer] = value instead\n",
      "\n",
      "See the caveats in the documentation: https://pandas.pydata.org/pandas-docs/stable/user_guide/indexing.html#returning-a-view-versus-a-copy\n"
     ]
    }
   ],
   "source": [
    "stopwords = STOPWORDS.words(\"english\")\n",
    "\n",
    "processed = clean_corpus(data=processed, \n",
    "                         stopwords=stopwords,\n",
    "                         dtype=\"frame\",\n",
    "                         feature=\"headline\")"
   ]
  },
  {
   "cell_type": "code",
   "execution_count": 8,
   "id": "DZTCWDZz6f07",
   "metadata": {
    "colab": {
     "base_uri": "https://localhost:8080/",
     "height": 204
    },
    "id": "DZTCWDZz6f07",
    "outputId": "ed9ef53b-5aa6-4c2c-c38b-65ce0f4aeae9"
   },
   "outputs": [
    {
     "data": {
      "text/html": [
       "<div>\n",
       "<style scoped>\n",
       "    .dataframe tbody tr th:only-of-type {\n",
       "        vertical-align: middle;\n",
       "    }\n",
       "\n",
       "    .dataframe tbody tr th {\n",
       "        vertical-align: top;\n",
       "    }\n",
       "\n",
       "    .dataframe thead th {\n",
       "        text-align: right;\n",
       "    }\n",
       "</style>\n",
       "<table border=\"1\" class=\"dataframe\">\n",
       "  <thead>\n",
       "    <tr style=\"text-align: right;\">\n",
       "      <th></th>\n",
       "      <th>headline</th>\n",
       "      <th>category</th>\n",
       "    </tr>\n",
       "  </thead>\n",
       "  <tbody>\n",
       "    <tr>\n",
       "      <th>1</th>\n",
       "      <td>smith join diplo nicky jam world cup official ...</td>\n",
       "      <td>ENTERTAINMENT</td>\n",
       "    </tr>\n",
       "    <tr>\n",
       "      <th>2</th>\n",
       "      <td>hugh grant marries first time age</td>\n",
       "      <td>ENTERTAINMENT</td>\n",
       "    </tr>\n",
       "    <tr>\n",
       "      <th>3</th>\n",
       "      <td>jim carrey blast castrato adam schiff democrat...</td>\n",
       "      <td>ENTERTAINMENT</td>\n",
       "    </tr>\n",
       "    <tr>\n",
       "      <th>4</th>\n",
       "      <td>julianna margulies us donald trump poop bag pi...</td>\n",
       "      <td>ENTERTAINMENT</td>\n",
       "    </tr>\n",
       "    <tr>\n",
       "      <th>5</th>\n",
       "      <td>morgan freeman devastated sexual harassment cl...</td>\n",
       "      <td>ENTERTAINMENT</td>\n",
       "    </tr>\n",
       "  </tbody>\n",
       "</table>\n",
       "</div>"
      ],
      "text/plain": [
       "                                            headline       category\n",
       "1  smith join diplo nicky jam world cup official ...  ENTERTAINMENT\n",
       "2                  hugh grant marries first time age  ENTERTAINMENT\n",
       "3  jim carrey blast castrato adam schiff democrat...  ENTERTAINMENT\n",
       "4  julianna margulies us donald trump poop bag pi...  ENTERTAINMENT\n",
       "5  morgan freeman devastated sexual harassment cl...  ENTERTAINMENT"
      ]
     },
     "execution_count": 8,
     "metadata": {},
     "output_type": "execute_result"
    }
   ],
   "source": [
    "processed.head(5)"
   ]
  },
  {
   "cell_type": "markdown",
   "id": "kbNU-hMa7gxZ",
   "metadata": {
    "id": "kbNU-hMa7gxZ"
   },
   "source": [
    "^^^^ TEXT ^^^^"
   ]
  },
  {
   "cell_type": "code",
   "execution_count": 9,
   "id": "yZaG5oBB7i8g",
   "metadata": {
    "colab": {
     "base_uri": "https://localhost:8080/",
     "height": 198
    },
    "id": "yZaG5oBB7i8g",
    "outputId": "3d30d1c3-648c-4bdb-8abf-85b2052a7dee"
   },
   "outputs": [
    {
     "data": {
      "image/png": "[encoded data removed]",
      "text/plain": [
       "<Figure size 432x288 with 1 Axes>"
      ]
     },
     "metadata": {
      "needs_background": "light"
     },
     "output_type": "display_data"
    }
   ],
   "source": [
    "common_words = str()\n",
    "\n",
    "for headline in processed[\"headline\"]:\n",
    "  headline = str(headline)\n",
    "  tokens = headline.split()\n",
    "  common_words += \" \".join(tokens) + \" \"\n",
    "frequencies = wordcloud.WordCloud().generate(common_words)\n",
    "plt.imshow(frequencies, interpolation=\"bilinear\")\n",
    "plt.axis(\"off\")\n",
    "plt.show()"
   ]
  },
  {
   "cell_type": "markdown",
   "id": "3Ur81SxY8QR0",
   "metadata": {
    "id": "3Ur81SxY8QR0"
   },
   "source": [
    "^^^^ TEXT ^^^^"
   ]
  },
  {
   "cell_type": "code",
   "execution_count": 10,
   "id": "LFFGTDMZ8Srq",
   "metadata": {
    "id": "LFFGTDMZ8Srq"
   },
   "outputs": [
    {
     "name": "stderr",
     "output_type": "stream",
     "text": [
      "/Library/Frameworks/Python.framework/Versions/3.7/lib/python3.7/site-packages/ipykernel_launcher.py:3: SettingWithCopyWarning: \n",
      "A value is trying to be set on a copy of a slice from a DataFrame.\n",
      "Try using .loc[row_indexer,col_indexer] = value instead\n",
      "\n",
      "See the caveats in the documentation: https://pandas.pydata.org/pandas-docs/stable/user_guide/indexing.html#returning-a-view-versus-a-copy\n",
      "  This is separate from the ipykernel package so we can avoid doing imports until\n"
     ]
    }
   ],
   "source": [
    "label_encoder = LabelEncoder()\n",
    "processed[\"category\"] = label_encoder.fit_transform(\n",
    "    processed[\"category\"]\n",
    ")"
   ]
  },
  {
   "cell_type": "code",
   "execution_count": 12,
   "id": "5KfKXc7f8dzZ",
   "metadata": {
    "colab": {
     "base_uri": "https://localhost:8080/",
     "height": 204
    },
    "id": "5KfKXc7f8dzZ",
    "outputId": "9967bd27-51e9-4332-f888-53925e9be697"
   },
   "outputs": [
    {
     "data": {
      "text/html": [
       "<div>\n",
       "<style scoped>\n",
       "    .dataframe tbody tr th:only-of-type {\n",
       "        vertical-align: middle;\n",
       "    }\n",
       "\n",
       "    .dataframe tbody tr th {\n",
       "        vertical-align: top;\n",
       "    }\n",
       "\n",
       "    .dataframe thead th {\n",
       "        text-align: right;\n",
       "    }\n",
       "</style>\n",
       "<table border=\"1\" class=\"dataframe\">\n",
       "  <thead>\n",
       "    <tr style=\"text-align: right;\">\n",
       "      <th></th>\n",
       "      <th>headline</th>\n",
       "      <th>category</th>\n",
       "    </tr>\n",
       "  </thead>\n",
       "  <tbody>\n",
       "    <tr>\n",
       "      <th>0</th>\n",
       "      <td>mass shooting texas last week tv</td>\n",
       "      <td>6</td>\n",
       "    </tr>\n",
       "    <tr>\n",
       "      <th>1</th>\n",
       "      <td>smith join diplo nicky jam world cup official ...</td>\n",
       "      <td>10</td>\n",
       "    </tr>\n",
       "    <tr>\n",
       "      <th>2</th>\n",
       "      <td>hugh grant marries first time age</td>\n",
       "      <td>10</td>\n",
       "    </tr>\n",
       "    <tr>\n",
       "      <th>3</th>\n",
       "      <td>jim carrey blast castrato adam schiff democrat...</td>\n",
       "      <td>10</td>\n",
       "    </tr>\n",
       "    <tr>\n",
       "      <th>4</th>\n",
       "      <td>julianna margulies us donald trump poop bag pi...</td>\n",
       "      <td>10</td>\n",
       "    </tr>\n",
       "  </tbody>\n",
       "</table>\n",
       "</div>"
      ],
      "text/plain": [
       "                                            headline  category\n",
       "0                   mass shooting texas last week tv         6\n",
       "1  smith join diplo nicky jam world cup official ...        10\n",
       "2                  hugh grant marries first time age        10\n",
       "3  jim carrey blast castrato adam schiff democrat...        10\n",
       "4  julianna margulies us donald trump poop bag pi...        10"
      ]
     },
     "execution_count": 12,
     "metadata": {},
     "output_type": "execute_result"
    }
   ],
   "source": [
    "processed.head(5)"
   ]
  },
  {
   "cell_type": "markdown",
   "id": "sbEUloOo90a4",
   "metadata": {
    "id": "sbEUloOo90a4"
   },
   "source": []
  },
  {
   "cell_type": "code",
   "execution_count": 11,
   "id": "hzi-uECB90M2",
   "metadata": {
    "id": "hzi-uECB90M2"
   },
   "outputs": [],
   "source": [
    "def tokenize_dataset(tokenizer, data):\n",
    "  \"\"\" Function to tokenize input data for model training/testing. \"\"\"\n",
    "  return pad_sequences(tokenizer.texts_to_sequences(data))"
   ]
  },
  {
   "cell_type": "code",
   "execution_count": 12,
   "id": "ol4hIs9c92RY",
   "metadata": {
    "id": "ol4hIs9c92RY"
   },
   "outputs": [],
   "source": [
    "tokenizer = Tokenizer(num_words=500, split=\" \")\n",
    "tokenizer.fit_on_texts(processed[\"headline\"].values)\n",
    "\n",
    "X = tokenize_dataset(tokenizer, processed[\"headline\"].values)"
   ]
  },
  {
   "cell_type": "code",
   "execution_count": 13,
   "id": "ClTM02_X9-kI",
   "metadata": {
    "colab": {
     "base_uri": "https://localhost:8080/"
    },
    "id": "ClTM02_X9-kI",
    "outputId": "b768a7da-fc05-435c-ab7f-036e66768386"
   },
   "outputs": [
    {
     "data": {
      "text/plain": [
       "array([[  0,   0,   0, ...,  24, 334, 315],\n",
       "       [  0,   0,   0, ...,  29,  19, 419],\n",
       "       [  0,   0,   0, ...,   0,  72,   3],\n",
       "       ...,\n",
       "       [  0,   0,   0, ...,   0,  24, 234],\n",
       "       [  0,   0,   0, ...,   0, 232, 369],\n",
       "       [  0,   0,   0, ...,   0,  30, 175]], dtype=int32)"
      ]
     },
     "execution_count": 13,
     "metadata": {},
     "output_type": "execute_result"
    }
   ],
   "source": [
    "X"
   ]
  },
  {
   "cell_type": "markdown",
   "id": "mxTGCKt1-F4b",
   "metadata": {
    "id": "mxTGCKt1-F4b"
   },
   "source": []
  },
  {
   "cell_type": "code",
   "execution_count": 14,
   "id": "0uGB_cmy-AdD",
   "metadata": {
    "id": "0uGB_cmy-AdD"
   },
   "outputs": [],
   "source": [
    "y = pd.get_dummies(processed[\"category\"])"
   ]
  },
  {
   "cell_type": "code",
   "execution_count": 15,
   "id": "yX83NrRm-Eeb",
   "metadata": {
    "id": "yX83NrRm-Eeb"
   },
   "outputs": [],
   "source": [
    "X_train, X_test, y_train, y_test = train_test_split(X, y, \n",
    "                                                    train_size=0.7, \n",
    "                                                    test_size=0.3, \n",
    "                                                    random_state=42)"
   ]
  },
  {
   "cell_type": "markdown",
   "id": "pBUvDOyf-YjX",
   "metadata": {
    "id": "pBUvDOyf-YjX"
   },
   "source": []
  },
  {
   "cell_type": "markdown",
   "id": "w-MnMiq--GNf",
   "metadata": {
    "id": "w-MnMiq--GNf"
   },
   "source": [
    "#### 🔹 Data Ingestion and Predictive Modeling"
   ]
  },
  {
   "cell_type": "code",
   "execution_count": 17,
   "id": "gQVRICVE-GjX",
   "metadata": {
    "id": "gQVRICVE-GjX"
   },
   "outputs": [],
   "source": [
    "# Embedding Layer for Token-Specific Vectorization\n",
    "input_embedding_layer = Embedding(500, 120, input_length=X.shape[1])\n",
    "\n",
    "# Dropout Regularizer for Text Embedding\n",
    "embedding_dropout_layer = SpatialDropout1D(0.4)\n",
    "\n",
    "# First Recurrent LSTM Cellular Architecture\n",
    "first_recurrent_layer = LSTM(176, \n",
    "                             dropout=0.2, \n",
    "                             recurrent_dropout=0.2, \n",
    "                             return_sequences=True)\n",
    "\n",
    "# Second Recurrent LSTM Cellular Architecture\n",
    "second_recurrent_layer = LSTM(176, \n",
    "                              dropout=0.2, \n",
    "                              recurrent_dropout=0.2)\n",
    "\n",
    "# Final Dense Layer for Output Extraction\n",
    "output_connective_layer = Dense(13, activation=\"softmax\")"
   ]
  },
  {
   "cell_type": "markdown",
   "id": "zWYSzf8I-gXU",
   "metadata": {
    "id": "zWYSzf8I-gXU"
   },
   "source": []
  },
  {
   "cell_type": "code",
   "execution_count": 18,
   "id": "ipJUv5oF-gn4",
   "metadata": {
    "colab": {
     "base_uri": "https://localhost:8080/"
    },
    "id": "ipJUv5oF-gn4",
    "outputId": "2293fb0a-cc45-4342-e4b4-0bae5f8fbbee"
   },
   "outputs": [
    {
     "name": "stdout",
     "output_type": "stream",
     "text": [
      "Model: \"sequential\"\n",
      "_________________________________________________________________\n",
      "Layer (type)                 Output Shape              Param #   \n",
      "=================================================================\n",
      "embedding_1 (Embedding)      (None, 13, 120)           60000     \n",
      "_________________________________________________________________\n",
      "spatial_dropout1d_1 (Spatia  (None, 13, 120)           0         \n",
      "lDropout1D)                                                      \n",
      "_________________________________________________________________\n",
      "lstm_2 (LSTM)                (None, 13, 176)           209088    \n",
      "_________________________________________________________________\n",
      "lstm_3 (LSTM)                (None, 176)               248512    \n",
      "_________________________________________________________________\n",
      "dense_1 (Dense)              (None, 13)                2301      \n",
      "_________________________________________________________________\n",
      "=================================================================\n",
      "Total params: 519,901\n",
      "Trainable params: 519,901\n",
      "Non-trainable params: 0\n",
      "_________________________________________________________________\n"
     ]
    }
   ],
   "source": [
    "# Sequential Model Architecture Design\n",
    "model = Sequential()\n",
    "\n",
    "# Add All Initialized Layers in Effective Sequence\n",
    "model.add(input_embedding_layer)\n",
    "model.add(embedding_dropout_layer)\n",
    "model.add(first_recurrent_layer)\n",
    "model.add(second_recurrent_layer)\n",
    "model.add(output_connective_layer)\n",
    "\n",
    "# Get Model Summary for Confirmation\n",
    "model.summary()"
   ]
  },
  {
   "cell_type": "markdown",
   "id": "Ry3YAc56-jjw",
   "metadata": {
    "id": "Ry3YAc56-jjw"
   },
   "source": []
  },
  {
   "cell_type": "code",
   "execution_count": 19,
   "id": "_unX4M_x-iLv",
   "metadata": {
    "id": "_unX4M_x-iLv"
   },
   "outputs": [],
   "source": [
    "# Compile Model with Specified Loss and Optimization Functions\n",
    "model.compile(loss=\"categorical_crossentropy\",\n",
    "              optimizer=\"nadam\",\n",
    "              metrics=[\"accuracy\"])"
   ]
  },
  {
   "cell_type": "markdown",
   "id": "DBzPk4o9-k_S",
   "metadata": {
    "id": "DBzPk4o9-k_S"
   },
   "source": []
  },
  {
   "cell_type": "code",
   "execution_count": 20,
   "id": "6KGxuvPM-ktj",
   "metadata": {
    "id": "6KGxuvPM-ktj"
   },
   "outputs": [],
   "source": [
    "# Define Early Stopping Callback Optimizer\n",
    "callback = EarlyStopping(monitor=\"loss\", patience=3)\n",
    "\n",
    "# Define Batch Size and Epochs as Hyperparameters\n",
    "batch_size, epochs = 32, 10"
   ]
  },
  {
   "cell_type": "markdown",
   "id": "XkLTnXq2-m4Y",
   "metadata": {
    "id": "XkLTnXq2-m4Y"
   },
   "source": []
  },
  {
   "cell_type": "code",
   "execution_count": 21,
   "id": "aTc3S4L5-nJC",
   "metadata": {
    "colab": {
     "base_uri": "https://localhost:8080/"
    },
    "id": "aTc3S4L5-nJC",
    "outputId": "c6b015ee-f761-4d78-b02e-769cb3e35045"
   },
   "outputs": [
    {
     "name": "stdout",
     "output_type": "stream",
     "text": [
      "Epoch 1/10\n",
      "2244/2244 [==============================] - 96s 41ms/step - loss: 1.6970 - accuracy: 0.4644\n",
      "Epoch 2/10\n",
      "2244/2244 [==============================] - 101s 45ms/step - loss: 1.4996 - accuracy: 0.5286\n",
      "Epoch 3/10\n",
      "2244/2244 [==============================] - 98s 44ms/step - loss: 1.4629 - accuracy: 0.5400\n",
      "Epoch 4/10\n",
      "2244/2244 [==============================] - 99s 44ms/step - loss: 1.4416 - accuracy: 0.5447\n",
      "Epoch 5/10\n",
      "2244/2244 [==============================] - 96s 43ms/step - loss: 1.4263 - accuracy: 0.5471\n",
      "Epoch 6/10\n",
      "2244/2244 [==============================] - 99s 44ms/step - loss: 1.4110 - accuracy: 0.5515\n",
      "Epoch 7/10\n",
      "2244/2244 [==============================] - 102s 45ms/step - loss: 1.3983 - accuracy: 0.5550\n",
      "Epoch 8/10\n",
      "2244/2244 [==============================] - 107s 48ms/step - loss: 1.3862 - accuracy: 0.5577\n",
      "Epoch 9/10\n",
      "2244/2244 [==============================] - 98s 44ms/step - loss: 1.3722 - accuracy: 0.5600\n",
      "Epoch 10/10\n",
      "2244/2244 [==============================] - 95s 42ms/step - loss: 1.3600 - accuracy: 0.5640\n"
     ]
    }
   ],
   "source": [
    "# Fit Learning Model Using Training Data and Configured Hyperparameters\n",
    "history = model.fit(X_train, y_train,\n",
    "                    epochs=epochs,\n",
    "                    batch_size=batch_size,\n",
    "                    callbacks=[callback],\n",
    "                    verbose=True)"
   ]
  },
  {
   "cell_type": "code",
   "execution_count": 22,
   "id": "H2ZPFt-hN9pk",
   "metadata": {
    "colab": {
     "base_uri": "https://localhost:8080/"
    },
    "id": "H2ZPFt-hN9pk",
    "outputId": "20ca8642-7327-4c6a-91b1-6da7d18ec8b8"
   },
   "outputs": [
    {
     "name": "stdout",
     "output_type": "stream",
     "text": [
      "962/962 [==============================] - 7s 6ms/step - loss: 1.4187 - accuracy: 0.5505\n"
     ]
    },
    {
     "data": {
      "text/plain": [
       "[1.4186993837356567, 0.550544261932373]"
      ]
     },
     "execution_count": 22,
     "metadata": {},
     "output_type": "execute_result"
    }
   ],
   "source": [
    "# Evaluate Learned Model Using Testing Data\n",
    "model.evaluate(X_test, y_test)"
   ]
  },
  {
   "cell_type": "code",
   "execution_count": 23,
   "id": "VxdbjksmOAva",
   "metadata": {
    "id": "VxdbjksmOAva"
   },
   "outputs": [],
   "source": [
    "# Get Our Predicted Labels\n",
    "y_pred = pd.DataFrame(data=model.predict(X_test), columns=[0,1,2,3,4,5,6,7,8,9,10,11,12])\n",
    "y_pred = y_pred.apply(round, axis=1).astype(int)"
   ]
  },
  {
   "cell_type": "code",
   "execution_count": 24,
   "id": "qIKpDxtPOBI2",
   "metadata": {
    "id": "qIKpDxtPOBI2"
   },
   "outputs": [],
   "source": [
    "# Create Simple Confusion Matrix as 2D Array\n",
    "cmat = confusion_matrix(y_true=y_test.values.argmax(axis=1), \n",
    "                        y_pred=y_pred.values.argmax(axis=1))"
   ]
  },
  {
   "cell_type": "code",
   "execution_count": 25,
   "id": "jFXWtqB9OBfN",
   "metadata": {
    "id": "jFXWtqB9OBfN"
   },
   "outputs": [],
   "source": [
    "def cmat_(cm, labels=None):\n",
    "  \"\"\" Helper function to visualize confusion matrices. \"\"\"\n",
    "  ax = plt.subplot()\n",
    "  sns.set(rc = {'figure.figsize':(25,3)})\n",
    "  sns.heatmap(cm, annot=True, fmt=\"g\", cmap=\"YlGnBu\", linewidths=0.5, ax=ax)\n",
    "  \n",
    "  ax.set_title(\"Confusion Matrix\")\n",
    "  ax.set_xlabel(\"Predicted Labels\")\n",
    "  ax.set_ylabel(\"True Labels\")\n",
    "  \n",
    "  if labels:\n",
    "      ax.set_xticklabels(labels)\n",
    "      ax.set_yticklabels(labels)\n",
    "    \n",
    "  plt.show()"
   ]
  },
  {
   "cell_type": "code",
   "execution_count": 26,
   "id": "HiINrCp4OEsa",
   "metadata": {
    "colab": {
     "base_uri": "https://localhost:8080/",
     "height": 295
    },
    "id": "HiINrCp4OEsa",
    "outputId": "8d574488-72d5-4fa3-f4df-997571fae407"
   },
   "outputs": [
    {
     "data": {
      "image/png": "[encoded data removed]",
      "text/plain": [
       "<Figure size 432x288 with 2 Axes>"
      ]
     },
     "metadata": {
      "needs_background": "light"
     },
     "output_type": "display_data"
    }
   ],
   "source": [
    "# Render Confusion Matrix as Seaborn Heatmap Visualization\n",
    "cmat_(cmat)"
   ]
  },
  {
   "cell_type": "code",
   "execution_count": 27,
   "id": "LcvlLuwzOH3G",
   "metadata": {
    "colab": {
     "base_uri": "https://localhost:8080/"
    },
    "id": "LcvlLuwzOH3G",
    "outputId": "33bb74a8-5536-4322-a35d-9260981903fc",
    "scrolled": true
   },
   "outputs": [
    {
     "name": "stdout",
     "output_type": "stream",
     "text": [
      "              precision    recall  f1-score   support\n",
      "\n",
      "           0       0.07      0.76      0.13      1305\n",
      "           1       0.66      0.23      0.34      1099\n",
      "           2       0.74      0.35      0.47      3668\n",
      "           3       0.77      0.18      0.30      1326\n",
      "           4       0.50      0.01      0.02      1499\n",
      "           5       0.55      0.32      0.41      1930\n",
      "           6       0.49      0.12      0.20      1040\n",
      "           7       0.82      0.74      0.78      8061\n",
      "           8       0.88      0.44      0.58      1458\n",
      "           9       0.73      0.21      0.33      1034\n",
      "          10       0.88      0.58      0.70      2152\n",
      "          11       0.73      0.39      0.51      2410\n",
      "          12       0.60      0.33      0.42      3793\n",
      "\n",
      "    accuracy                           0.45     30775\n",
      "   macro avg       0.65      0.36      0.40     30775\n",
      "weighted avg       0.70      0.45      0.50     30775\n",
      "\n"
     ]
    }
   ],
   "source": [
    "# Create Classification Report with Summary Statistics/Metrics\n",
    "print(classification_report(y_true=y_test.values.argmax(axis=1),\n",
    "                            y_pred=y_pred.values.argmax(axis=1)))"
   ]
  }
 ],
 "metadata": {
  "colab": {
   "collapsed_sections": [],
   "name": "Capstone News Aggregator.ipynb",
   "provenance": []
  },
  "kernelspec": {
   "display_name": "Python 3 (ipykernel)",
   "language": "python",
   "name": "python3"
  },
  "language_info": {
   "codemirror_mode": {
    "name": "ipython",
    "version": 3
   },
   "file_extension": ".py",
   "mimetype": "text/x-python",
   "name": "python",
   "nbconvert_exporter": "python",
   "pygments_lexer": "ipython3",
   "version": "3.7.9"
  }
 },
 "nbformat": 4,
 "nbformat_minor": 5
}
