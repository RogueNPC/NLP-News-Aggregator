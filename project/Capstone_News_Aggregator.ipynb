{
  "nbformat": 4,
  "nbformat_minor": 5,
  "metadata": {
    "kernelspec": {
      "display_name": "Python 3 (ipykernel)",
      "language": "python",
      "name": "python3"
    },
    "language_info": {
      "codemirror_mode": {
        "name": "ipython",
        "version": 3
      },
      "file_extension": ".py",
      "mimetype": "text/x-python",
      "name": "python",
      "nbconvert_exporter": "python",
      "pygments_lexer": "ipython3",
      "version": "3.7.9"
    },
    "colab": {
      "name": "Capstone News Aggregator.ipynb",
      "provenance": [],
      "collapsed_sections": []
    }
  },
  "cells": [
    {
      "cell_type": "markdown",
      "metadata": {
        "id": "arnnR7wDy_WD"
      },
      "source": [
        "# News Aggregation Natural Language Processing\n",
        "\n",
        "In this notebook, we'll be extending our understanding of sequence-based modeling by extracting sentiments and signals from real-world text data.\n",
        "\n",
        "Specifically, we'll be applying LSTM networks against corpuses of news headlines from the year 2012 to 2018 obtained from HuffPost and attempting to extract sentiment from specific reviews - both ones pulled from the dataset for testing and ones we create ourselves!"
      ],
      "id": "arnnR7wDy_WD"
    },
    {
      "cell_type": "markdown",
      "metadata": {
        "id": "vUxJVU61xFli"
      },
      "source": [
        "#### 🔹 General Importations"
      ],
      "id": "vUxJVU61xFli"
    },
    {
      "cell_type": "code",
      "metadata": {
        "colab": {
          "base_uri": "https://localhost:8080/"
        },
        "id": "de4824ce",
        "outputId": "2450d1e4-df9e-46d8-bce0-ada65782cd03"
      },
      "source": [
        "# General Data Science Dependencies\n",
        "import pandas as pd\n",
        "import matplotlib.pyplot as plt\n",
        "import seaborn as sns\n",
        "\n",
        "# Regular Expression Parsing and Word Cloud Mapping\n",
        "import re, wordcloud\n",
        "\n",
        "# Natural Language Toolkit\n",
        "import nltk; nltk.download(\"stopwords\"); nltk.download(\"wordnet\")\n",
        "\n",
        "# Language Token Processing and Frequency Distribution Calculator\n",
        "from textblob import Word\n",
        "from collections import Counter\n",
        "\n",
        "# Generalized Machine/Deep Learning Codependencies\n",
        "from sklearn.preprocessing import LabelEncoder\n",
        "from sklearn.model_selection import train_test_split\n",
        "from sklearn.metrics import classification_report, confusion_matrix, accuracy_score\n",
        "\n",
        "# TensorFlow for Deep Learning\n",
        "import tensorflow as tf"
      ],
      "id": "de4824ce",
      "execution_count": null,
      "outputs": [
        {
          "output_type": "stream",
          "name": "stdout",
          "text": [
            "[nltk_data] Downloading package stopwords to /root/nltk_data...\n",
            "[nltk_data]   Unzipping corpora/stopwords.zip.\n",
            "[nltk_data] Downloading package wordnet to /root/nltk_data...\n",
            "[nltk_data]   Unzipping corpora/wordnet.zip.\n"
          ]
        }
      ]
    },
    {
      "cell_type": "markdown",
      "metadata": {
        "id": "aEunR-WWxIEr"
      },
      "source": [
        "#### 🔹 Deep Learning Functional Initializations\n",
        "\n",
        "As good practice, let's initialize the specific tools we'll be using from `TensorFlow` to make things a little more readable moving forward."
      ],
      "id": "aEunR-WWxIEr"
    },
    {
      "cell_type": "code",
      "metadata": {
        "id": "dbbbd9be"
      },
      "source": [
        "# Stopwords: Generally Recognized Noisy Terms\n",
        "STOPWORDS = nltk.corpus.stopwords\n",
        "\n",
        "# Sequential Model Architecture\n",
        "Sequential = tf.keras.models.Sequential\n",
        "\n",
        "# Connective Layers with Dropout\n",
        "Dense = tf.keras.layers.Dense\n",
        "Dropout = tf.keras.layers.Dropout\n",
        "\n",
        "# Early Stopping Optimization\n",
        "EarlyStopping = tf.keras.callbacks.EarlyStopping\n",
        "\n",
        "# Natural Text-Based Language Processing Layers with RNN\n",
        "Embedding = tf.keras.layers.Embedding\n",
        "LSTM = tf.keras.layers.LSTM\n",
        "SpatialDropout1D = tf.keras.layers.SpatialDropout1D\n",
        "\n",
        "# Language Tokenization Filter\n",
        "Tokenizer = tf.keras.preprocessing.text.Tokenizer\n",
        "\n",
        "# Padding Function for Dataset Ingestion Preprocessing\n",
        "pad_sequences = tf.keras.preprocessing.sequence.pad_sequences"
      ],
      "id": "dbbbd9be",
      "execution_count": null,
      "outputs": []
    },
    {
      "cell_type": "markdown",
      "metadata": {
        "id": "HoJSNaIPxR_l"
      },
      "source": [
        "#### 🔹 Data Loading and Preprocessing\n",
        "\n",
        "Let's first load and take a look at what data we're working with. "
      ],
      "id": "HoJSNaIPxR_l"
    },
    {
      "cell_type": "code",
      "metadata": {
        "colab": {
          "base_uri": "https://localhost:8080/",
          "height": 359
        },
        "id": "f57b2596",
        "outputId": "069540b8-fd47-46ff-b3c2-4d262e1d9667"
      },
      "source": [
        "CORPUS = \"News_Category_Dataset_v2.csv\"\n",
        "\n",
        "dataset = pd.read_csv(CORPUS, error_bad_lines=False)\n",
        "# removing entries with null values\n",
        "df = dataset.dropna()\n",
        "df.head(10)"
      ],
      "id": "f57b2596",
      "execution_count": null,
      "outputs": [
        {
          "output_type": "execute_result",
          "data": {
            "text/html": [
              "<div>\n",
              "<style scoped>\n",
              "    .dataframe tbody tr th:only-of-type {\n",
              "        vertical-align: middle;\n",
              "    }\n",
              "\n",
              "    .dataframe tbody tr th {\n",
              "        vertical-align: top;\n",
              "    }\n",
              "\n",
              "    .dataframe thead th {\n",
              "        text-align: right;\n",
              "    }\n",
              "</style>\n",
              "<table border=\"1\" class=\"dataframe\">\n",
              "  <thead>\n",
              "    <tr style=\"text-align: right;\">\n",
              "      <th></th>\n",
              "      <th>category</th>\n",
              "      <th>headline</th>\n",
              "      <th>authors</th>\n",
              "      <th>link</th>\n",
              "      <th>short_description</th>\n",
              "      <th>date</th>\n",
              "    </tr>\n",
              "  </thead>\n",
              "  <tbody>\n",
              "    <tr>\n",
              "      <th>0</th>\n",
              "      <td>CRIME</td>\n",
              "      <td>There Were 2 Mass Shootings In Texas Last Week...</td>\n",
              "      <td>Melissa Jeltsen</td>\n",
              "      <td>https://www.huffingtonpost.com/entry/texas-ama...</td>\n",
              "      <td>She left her husband. He killed their children...</td>\n",
              "      <td>2018-05-26</td>\n",
              "    </tr>\n",
              "    <tr>\n",
              "      <th>1</th>\n",
              "      <td>ENTERTAINMENT</td>\n",
              "      <td>Will Smith Joins Diplo And Nicky Jam For The 2...</td>\n",
              "      <td>Andy McDonald</td>\n",
              "      <td>https://www.huffingtonpost.com/entry/will-smit...</td>\n",
              "      <td>Of course it has a song.</td>\n",
              "      <td>2018-05-26</td>\n",
              "    </tr>\n",
              "    <tr>\n",
              "      <th>2</th>\n",
              "      <td>ENTERTAINMENT</td>\n",
              "      <td>Hugh Grant Marries For The First Time At Age 57</td>\n",
              "      <td>Ron Dicker</td>\n",
              "      <td>https://www.huffingtonpost.com/entry/hugh-gran...</td>\n",
              "      <td>The actor and his longtime girlfriend Anna Ebe...</td>\n",
              "      <td>2018-05-26</td>\n",
              "    </tr>\n",
              "    <tr>\n",
              "      <th>3</th>\n",
              "      <td>ENTERTAINMENT</td>\n",
              "      <td>Jim Carrey Blasts 'Castrato' Adam Schiff And D...</td>\n",
              "      <td>Ron Dicker</td>\n",
              "      <td>https://www.huffingtonpost.com/entry/jim-carre...</td>\n",
              "      <td>The actor gives Dems an ass-kicking for not fi...</td>\n",
              "      <td>2018-05-26</td>\n",
              "    </tr>\n",
              "    <tr>\n",
              "      <th>4</th>\n",
              "      <td>ENTERTAINMENT</td>\n",
              "      <td>Julianna Margulies Uses Donald Trump Poop Bags...</td>\n",
              "      <td>Ron Dicker</td>\n",
              "      <td>https://www.huffingtonpost.com/entry/julianna-...</td>\n",
              "      <td>The \"Dietland\" actress said using the bags is ...</td>\n",
              "      <td>2018-05-26</td>\n",
              "    </tr>\n",
              "    <tr>\n",
              "      <th>5</th>\n",
              "      <td>ENTERTAINMENT</td>\n",
              "      <td>Morgan Freeman 'Devastated' That Sexual Harass...</td>\n",
              "      <td>Ron Dicker</td>\n",
              "      <td>https://www.huffingtonpost.com/entry/morgan-fr...</td>\n",
              "      <td>\"It is not right to equate horrific incidents ...</td>\n",
              "      <td>2018-05-26</td>\n",
              "    </tr>\n",
              "    <tr>\n",
              "      <th>6</th>\n",
              "      <td>ENTERTAINMENT</td>\n",
              "      <td>Donald Trump Is Lovin' New McDonald's Jingle I...</td>\n",
              "      <td>Ron Dicker</td>\n",
              "      <td>https://www.huffingtonpost.com/entry/donald-tr...</td>\n",
              "      <td>It's catchy, all right.</td>\n",
              "      <td>2018-05-26</td>\n",
              "    </tr>\n",
              "    <tr>\n",
              "      <th>7</th>\n",
              "      <td>ENTERTAINMENT</td>\n",
              "      <td>What To Watch On Amazon Prime That’s New This ...</td>\n",
              "      <td>Todd Van Luling</td>\n",
              "      <td>https://www.huffingtonpost.com/entry/amazon-pr...</td>\n",
              "      <td>There's a great mini-series joining this week.</td>\n",
              "      <td>2018-05-26</td>\n",
              "    </tr>\n",
              "    <tr>\n",
              "      <th>8</th>\n",
              "      <td>ENTERTAINMENT</td>\n",
              "      <td>Mike Myers Reveals He'd 'Like To' Do A Fourth ...</td>\n",
              "      <td>Andy McDonald</td>\n",
              "      <td>https://www.huffingtonpost.com/entry/mike-myer...</td>\n",
              "      <td>Myer's kids may be pushing for a new \"Powers\" ...</td>\n",
              "      <td>2018-05-26</td>\n",
              "    </tr>\n",
              "    <tr>\n",
              "      <th>9</th>\n",
              "      <td>ENTERTAINMENT</td>\n",
              "      <td>What To Watch On Hulu That’s New This Week</td>\n",
              "      <td>Todd Van Luling</td>\n",
              "      <td>https://www.huffingtonpost.com/entry/hulu-what...</td>\n",
              "      <td>You're getting a recent Academy Award-winning ...</td>\n",
              "      <td>2018-05-26</td>\n",
              "    </tr>\n",
              "  </tbody>\n",
              "</table>\n",
              "</div>"
            ],
            "text/plain": [
              "        category  ...        date\n",
              "0          CRIME  ...  2018-05-26\n",
              "1  ENTERTAINMENT  ...  2018-05-26\n",
              "2  ENTERTAINMENT  ...  2018-05-26\n",
              "3  ENTERTAINMENT  ...  2018-05-26\n",
              "4  ENTERTAINMENT  ...  2018-05-26\n",
              "5  ENTERTAINMENT  ...  2018-05-26\n",
              "6  ENTERTAINMENT  ...  2018-05-26\n",
              "7  ENTERTAINMENT  ...  2018-05-26\n",
              "8  ENTERTAINMENT  ...  2018-05-26\n",
              "9  ENTERTAINMENT  ...  2018-05-26\n",
              "\n",
              "[10 rows x 6 columns]"
            ]
          },
          "metadata": {},
          "execution_count": 53
        }
      ]
    },
    {
      "cell_type": "code",
      "metadata": {
        "colab": {
          "base_uri": "https://localhost:8080/"
        },
        "id": "oeH6PyPe0hg7",
        "outputId": "9ff603ae-8b17-45c1-a0cd-7bacf811894c"
      },
      "source": [
        "# TODO: Take out categories, make categories even ('_')\n",
        "\n",
        "print(df['category'].nunique())\n",
        "print('------------------------------')\n",
        "print(df['category'].unique())\n",
        "print('------------------------------')\n",
        "print(df['category'].value_counts())"
      ],
      "id": "oeH6PyPe0hg7",
      "execution_count": null,
      "outputs": [
        {
          "output_type": "stream",
          "name": "stdout",
          "text": [
            "41\n",
            "------------------------------\n",
            "['CRIME' 'ENTERTAINMENT' 'IMPACT' 'POLITICS' 'WEIRD NEWS' 'WORLD NEWS'\n",
            " 'BLACK VOICES' 'WOMEN' 'COMEDY' 'QUEER VOICES' 'SPORTS' 'BUSINESS'\n",
            " 'TRAVEL' 'MEDIA' 'TECH' 'RELIGION' 'LATINO VOICES' 'SCIENCE' 'EDUCATION'\n",
            " 'COLLEGE' 'PARENTS' 'ARTS & CULTURE' 'STYLE' 'GREEN' 'TASTE'\n",
            " 'HEALTHY LIVING' 'THE WORLDPOST' 'GOOD NEWS' 'WORLDPOST' 'FIFTY' 'ARTS'\n",
            " 'WELLNESS' 'PARENTING' 'HOME & LIVING' 'STYLE & BEAUTY' 'WEDDINGS'\n",
            " 'FOOD & DRINK' 'DIVORCE' 'MONEY' 'ENVIRONMENT' 'CULTURE & ARTS']\n",
            "------------------------------\n",
            "POLITICS          26913\n",
            "WELLNESS          12827\n",
            "ENTERTAINMENT     12192\n",
            "TRAVEL             8011\n",
            "STYLE & BEAUTY     7111\n",
            "PARENTING          6408\n",
            "HEALTHY LIVING     5072\n",
            "QUEER VOICES       4669\n",
            "FOOD & DRINK       4413\n",
            "BUSINESS           4320\n",
            "COMEDY             3709\n",
            "PARENTS            3491\n",
            "SPORTS             3445\n",
            "HOME & LIVING      3398\n",
            "BLACK VOICES       3260\n",
            "IMPACT             2920\n",
            "WOMEN              2840\n",
            "THE WORLDPOST      2198\n",
            "MEDIA              1976\n",
            "CRIME              1960\n",
            "TASTE              1891\n",
            "WEIRD NEWS         1890\n",
            "WORLD NEWS         1824\n",
            "RELIGION           1761\n",
            "WEDDINGS           1703\n",
            "DIVORCE            1695\n",
            "GREEN              1682\n",
            "TECH               1659\n",
            "STYLE              1535\n",
            "MONEY              1492\n",
            "SCIENCE            1404\n",
            "ARTS & CULTURE     1307\n",
            "WORLDPOST          1242\n",
            "FIFTY              1042\n",
            "GOOD NEWS           917\n",
            "EDUCATION           885\n",
            "LATINO VOICES       877\n",
            "ARTS                863\n",
            "COLLEGE             860\n",
            "ENVIRONMENT         670\n",
            "CULTURE & ARTS      651\n",
            "Name: category, dtype: int64\n"
          ]
        }
      ]
    },
    {
      "cell_type": "markdown",
      "metadata": {
        "id": "pzpzIGdlzoay"
      },
      "source": [
        "^^^^ TEXT ^^^^"
      ],
      "id": "pzpzIGdlzoay"
    },
    {
      "cell_type": "code",
      "metadata": {
        "colab": {
          "base_uri": "https://localhost:8080/"
        },
        "id": "Erlta1HgzoD0",
        "outputId": "5464e9cc-5052-4d4d-aeeb-c333ac914743"
      },
      "source": [
        "FEATURES_IMPUTED = [\"headline\", \"category\"]\n",
        "\n",
        "processed = df[FEATURES_IMPUTED]\n",
        "processed.isnull().sum()"
      ],
      "id": "Erlta1HgzoD0",
      "execution_count": null,
      "outputs": [
        {
          "output_type": "execute_result",
          "data": {
            "text/plain": [
              "headline    0\n",
              "category    0\n",
              "dtype: int64"
            ]
          },
          "metadata": {},
          "execution_count": 46
        }
      ]
    },
    {
      "cell_type": "markdown",
      "metadata": {
        "id": "2lzXV9ck-a4r"
      },
      "source": [
        ""
      ],
      "id": "2lzXV9ck-a4r"
    },
    {
      "cell_type": "markdown",
      "metadata": {
        "id": "lxeOoMaC6Rww"
      },
      "source": [
        "#### 🔹 Language Processing for Data Ingestion"
      ],
      "id": "lxeOoMaC6Rww"
    },
    {
      "cell_type": "code",
      "metadata": {
        "id": "9txmiEXp6Tvg"
      },
      "source": [
        "def clean_corpus(data, stopwords, dtype=\"frame\", feature=\"verified_reviews\"):\n",
        "  \"\"\" Function to remove special characters, digits, stop words, \n",
        "  unimportant symbols, and other unnecessary noise from our dataset. \"\"\"\n",
        "  if dtype == \"frame\":\n",
        "    data[feature] = data[feature].apply(\n",
        "        lambda review: \" \".join(review.lower() for review in review.split())\n",
        "    )\n",
        "    data[feature] = data[feature].str.replace(\n",
        "        r\"[^A-Za-z0-9 ]\", r\"\",\n",
        "        regex=True\n",
        "    )\n",
        "    data[feature] = data[feature].str.replace(\n",
        "        \"\\d+\", \"\"\n",
        "    )\n",
        "    data[feature] = data[feature].apply(\n",
        "        lambda token: \" \".join(token for token in token.split() if token not in stopwords)\n",
        "    )\n",
        "    data[feature] = data[feature].apply(\n",
        "        lambda token: \" \".join([Word(token).lemmatize() for token in token.split()])\n",
        "    )\n",
        "  elif dtype == \"list\":\n",
        "    data = [\" \".join(review.lower() for review in review.split()) for review in data]\n",
        "    data = [re.sub(r\"[^A-Za-z0-9 ]\", r\"\", review) for review in data]\n",
        "    data = [re.sub(\"\\d+\", \"\", review) for review in data]\n",
        "    data = [\" \".join(token for token in token.split() if token not in stopwords) for token in data]\n",
        "    data = [\" \".join([Word(token).lemmatize() for token in token.split()]) for token in data]\n",
        "  return data"
      ],
      "id": "9txmiEXp6Tvg",
      "execution_count": null,
      "outputs": []
    },
    {
      "cell_type": "markdown",
      "metadata": {
        "id": "fKAbTFhn6WVS"
      },
      "source": [
        "^^^^ TEXT ^^^^"
      ],
      "id": "fKAbTFhn6WVS"
    },
    {
      "cell_type": "code",
      "metadata": {
        "colab": {
          "base_uri": "https://localhost:8080/"
        },
        "id": "saZsrQ2z6WKJ",
        "outputId": "b539b7a5-8803-4c38-d1d3-572f7f87cd56"
      },
      "source": [
        "stopwords = STOPWORDS.words(\"english\")\n",
        "\n",
        "processed = clean_corpus(data=processed, \n",
        "                         stopwords=stopwords,\n",
        "                         dtype=\"frame\",\n",
        "                         feature=\"headline\")"
      ],
      "id": "saZsrQ2z6WKJ",
      "execution_count": null,
      "outputs": [
        {
          "output_type": "stream",
          "name": "stderr",
          "text": [
            "/usr/local/lib/python3.7/dist-packages/ipykernel_launcher.py:6: SettingWithCopyWarning: \n",
            "A value is trying to be set on a copy of a slice from a DataFrame.\n",
            "Try using .loc[row_indexer,col_indexer] = value instead\n",
            "\n",
            "See the caveats in the documentation: https://pandas.pydata.org/pandas-docs/stable/user_guide/indexing.html#returning-a-view-versus-a-copy\n",
            "  \n",
            "/usr/local/lib/python3.7/dist-packages/ipykernel_launcher.py:10: SettingWithCopyWarning: \n",
            "A value is trying to be set on a copy of a slice from a DataFrame.\n",
            "Try using .loc[row_indexer,col_indexer] = value instead\n",
            "\n",
            "See the caveats in the documentation: https://pandas.pydata.org/pandas-docs/stable/user_guide/indexing.html#returning-a-view-versus-a-copy\n",
            "  # Remove the CWD from sys.path while we load stuff.\n",
            "/usr/local/lib/python3.7/dist-packages/ipykernel_launcher.py:13: SettingWithCopyWarning: \n",
            "A value is trying to be set on a copy of a slice from a DataFrame.\n",
            "Try using .loc[row_indexer,col_indexer] = value instead\n",
            "\n",
            "See the caveats in the documentation: https://pandas.pydata.org/pandas-docs/stable/user_guide/indexing.html#returning-a-view-versus-a-copy\n",
            "  del sys.path[0]\n",
            "/usr/local/lib/python3.7/dist-packages/ipykernel_launcher.py:16: SettingWithCopyWarning: \n",
            "A value is trying to be set on a copy of a slice from a DataFrame.\n",
            "Try using .loc[row_indexer,col_indexer] = value instead\n",
            "\n",
            "See the caveats in the documentation: https://pandas.pydata.org/pandas-docs/stable/user_guide/indexing.html#returning-a-view-versus-a-copy\n",
            "  app.launch_new_instance()\n",
            "/usr/local/lib/python3.7/dist-packages/ipykernel_launcher.py:19: SettingWithCopyWarning: \n",
            "A value is trying to be set on a copy of a slice from a DataFrame.\n",
            "Try using .loc[row_indexer,col_indexer] = value instead\n",
            "\n",
            "See the caveats in the documentation: https://pandas.pydata.org/pandas-docs/stable/user_guide/indexing.html#returning-a-view-versus-a-copy\n"
          ]
        }
      ]
    },
    {
      "cell_type": "code",
      "metadata": {
        "colab": {
          "base_uri": "https://localhost:8080/",
          "height": 204
        },
        "id": "DZTCWDZz6f07",
        "outputId": "ed9ef53b-5aa6-4c2c-c38b-65ce0f4aeae9"
      },
      "source": [
        "processed.head(5)"
      ],
      "id": "DZTCWDZz6f07",
      "execution_count": null,
      "outputs": [
        {
          "output_type": "execute_result",
          "data": {
            "text/html": [
              "<div>\n",
              "<style scoped>\n",
              "    .dataframe tbody tr th:only-of-type {\n",
              "        vertical-align: middle;\n",
              "    }\n",
              "\n",
              "    .dataframe tbody tr th {\n",
              "        vertical-align: top;\n",
              "    }\n",
              "\n",
              "    .dataframe thead th {\n",
              "        text-align: right;\n",
              "    }\n",
              "</style>\n",
              "<table border=\"1\" class=\"dataframe\">\n",
              "  <thead>\n",
              "    <tr style=\"text-align: right;\">\n",
              "      <th></th>\n",
              "      <th>headline</th>\n",
              "      <th>category</th>\n",
              "    </tr>\n",
              "  </thead>\n",
              "  <tbody>\n",
              "    <tr>\n",
              "      <th>0</th>\n",
              "      <td>mass shooting texas last week tv</td>\n",
              "      <td>CRIME</td>\n",
              "    </tr>\n",
              "    <tr>\n",
              "      <th>1</th>\n",
              "      <td>smith join diplo nicky jam world cup official ...</td>\n",
              "      <td>ENTERTAINMENT</td>\n",
              "    </tr>\n",
              "    <tr>\n",
              "      <th>2</th>\n",
              "      <td>hugh grant marries first time age</td>\n",
              "      <td>ENTERTAINMENT</td>\n",
              "    </tr>\n",
              "    <tr>\n",
              "      <th>3</th>\n",
              "      <td>jim carrey blast castrato adam schiff democrat...</td>\n",
              "      <td>ENTERTAINMENT</td>\n",
              "    </tr>\n",
              "    <tr>\n",
              "      <th>4</th>\n",
              "      <td>julianna margulies us donald trump poop bag pi...</td>\n",
              "      <td>ENTERTAINMENT</td>\n",
              "    </tr>\n",
              "  </tbody>\n",
              "</table>\n",
              "</div>"
            ],
            "text/plain": [
              "                                            headline       category\n",
              "0                   mass shooting texas last week tv          CRIME\n",
              "1  smith join diplo nicky jam world cup official ...  ENTERTAINMENT\n",
              "2                  hugh grant marries first time age  ENTERTAINMENT\n",
              "3  jim carrey blast castrato adam schiff democrat...  ENTERTAINMENT\n",
              "4  julianna margulies us donald trump poop bag pi...  ENTERTAINMENT"
            ]
          },
          "metadata": {},
          "execution_count": 54
        }
      ]
    },
    {
      "cell_type": "markdown",
      "metadata": {
        "id": "kbNU-hMa7gxZ"
      },
      "source": [
        "^^^^ TEXT ^^^^"
      ],
      "id": "kbNU-hMa7gxZ"
    },
    {
      "cell_type": "code",
      "metadata": {
        "colab": {
          "base_uri": "https://localhost:8080/",
          "height": 198
        },
        "id": "yZaG5oBB7i8g",
        "outputId": "3d30d1c3-648c-4bdb-8abf-85b2052a7dee"
      },
      "source": [
        "common_words = str()\n",
        "\n",
        "for headline in processed[\"headline\"]:\n",
        "  headline = str(headline)\n",
        "  tokens = headline.split()\n",
        "  common_words += \" \".join(tokens) + \" \"\n",
        "frequencies = wordcloud.WordCloud().generate(common_words)\n",
        "plt.imshow(frequencies, interpolation=\"bilinear\")\n",
        "plt.axis(\"off\")\n",
        "plt.show()"
      ],
      "id": "yZaG5oBB7i8g",
      "execution_count": null,
      "outputs": [
        {
          "output_type": "display_data",
          "data": {
            "image/png": "[encoded data removed]",
            "text/plain": [
              "<Figure size 432x288 with 1 Axes>"
            ]
          },
          "metadata": {
            "needs_background": "light"
          }
        }
      ]
    },
    {
      "cell_type": "markdown",
      "metadata": {
        "id": "3Ur81SxY8QR0"
      },
      "source": [
        "^^^^ TEXT ^^^^"
      ],
      "id": "3Ur81SxY8QR0"
    },
    {
      "cell_type": "code",
      "metadata": {
        "id": "LFFGTDMZ8Srq"
      },
      "source": [
        "label_encoder = LabelEncoder()\n",
        "processed[\"category\"] = label_encoder.fit_transform(\n",
        "    processed[\"category\"]\n",
        ")"
      ],
      "id": "LFFGTDMZ8Srq",
      "execution_count": null,
      "outputs": []
    },
    {
      "cell_type": "code",
      "metadata": {
        "colab": {
          "base_uri": "https://localhost:8080/",
          "height": 204
        },
        "id": "5KfKXc7f8dzZ",
        "outputId": "9967bd27-51e9-4332-f888-53925e9be697"
      },
      "source": [
        "processed.head(5)"
      ],
      "id": "5KfKXc7f8dzZ",
      "execution_count": null,
      "outputs": [
        {
          "output_type": "execute_result",
          "data": {
            "text/html": [
              "<div>\n",
              "<style scoped>\n",
              "    .dataframe tbody tr th:only-of-type {\n",
              "        vertical-align: middle;\n",
              "    }\n",
              "\n",
              "    .dataframe tbody tr th {\n",
              "        vertical-align: top;\n",
              "    }\n",
              "\n",
              "    .dataframe thead th {\n",
              "        text-align: right;\n",
              "    }\n",
              "</style>\n",
              "<table border=\"1\" class=\"dataframe\">\n",
              "  <thead>\n",
              "    <tr style=\"text-align: right;\">\n",
              "      <th></th>\n",
              "      <th>headline</th>\n",
              "      <th>category</th>\n",
              "    </tr>\n",
              "  </thead>\n",
              "  <tbody>\n",
              "    <tr>\n",
              "      <th>0</th>\n",
              "      <td>mass shooting texas last week tv</td>\n",
              "      <td>6</td>\n",
              "    </tr>\n",
              "    <tr>\n",
              "      <th>1</th>\n",
              "      <td>smith join diplo nicky jam world cup official ...</td>\n",
              "      <td>10</td>\n",
              "    </tr>\n",
              "    <tr>\n",
              "      <th>2</th>\n",
              "      <td>hugh grant marries first time age</td>\n",
              "      <td>10</td>\n",
              "    </tr>\n",
              "    <tr>\n",
              "      <th>3</th>\n",
              "      <td>jim carrey blast castrato adam schiff democrat...</td>\n",
              "      <td>10</td>\n",
              "    </tr>\n",
              "    <tr>\n",
              "      <th>4</th>\n",
              "      <td>julianna margulies us donald trump poop bag pi...</td>\n",
              "      <td>10</td>\n",
              "    </tr>\n",
              "  </tbody>\n",
              "</table>\n",
              "</div>"
            ],
            "text/plain": [
              "                                            headline  category\n",
              "0                   mass shooting texas last week tv         6\n",
              "1  smith join diplo nicky jam world cup official ...        10\n",
              "2                  hugh grant marries first time age        10\n",
              "3  jim carrey blast castrato adam schiff democrat...        10\n",
              "4  julianna margulies us donald trump poop bag pi...        10"
            ]
          },
          "metadata": {},
          "execution_count": 60
        }
      ]
    },
    {
      "cell_type": "markdown",
      "metadata": {
        "id": "sbEUloOo90a4"
      },
      "source": [
        ""
      ],
      "id": "sbEUloOo90a4"
    },
    {
      "cell_type": "code",
      "metadata": {
        "id": "hzi-uECB90M2"
      },
      "source": [
        "def tokenize_dataset(tokenizer, data):\n",
        "  \"\"\" Function to tokenize input data for model training/testing. \"\"\"\n",
        "  return pad_sequences(tokenizer.texts_to_sequences(data))"
      ],
      "id": "hzi-uECB90M2",
      "execution_count": null,
      "outputs": []
    },
    {
      "cell_type": "code",
      "metadata": {
        "id": "ol4hIs9c92RY"
      },
      "source": [
        "tokenizer = Tokenizer(num_words=500, split=\" \")\n",
        "tokenizer.fit_on_texts(processed[\"headline\"].values)\n",
        "\n",
        "X = tokenize_dataset(tokenizer, processed[\"headline\"].values)"
      ],
      "id": "ol4hIs9c92RY",
      "execution_count": null,
      "outputs": []
    },
    {
      "cell_type": "code",
      "metadata": {
        "colab": {
          "base_uri": "https://localhost:8080/"
        },
        "id": "ClTM02_X9-kI",
        "outputId": "b768a7da-fc05-435c-ab7f-036e66768386"
      },
      "source": [
        "X"
      ],
      "id": "ClTM02_X9-kI",
      "execution_count": null,
      "outputs": [
        {
          "output_type": "execute_result",
          "data": {
            "text/plain": [
              "array([[  0,   0,   0, ..., 194,  28, 238],\n",
              "       [  0,   0,   0, ...,  16, 337, 365],\n",
              "       [  0,   0,   0, ...,  27,  18, 372],\n",
              "       ...,\n",
              "       [  0,   0,   0, ...,   0,   0,  73],\n",
              "       [  0,   0,   0, ...,  60,  11,  28],\n",
              "       [  0,   0,   0, ...,   0,   0, 108]], dtype=int32)"
            ]
          },
          "metadata": {},
          "execution_count": 63
        }
      ]
    },
    {
      "cell_type": "markdown",
      "metadata": {
        "id": "mxTGCKt1-F4b"
      },
      "source": [
        ""
      ],
      "id": "mxTGCKt1-F4b"
    },
    {
      "cell_type": "code",
      "metadata": {
        "id": "0uGB_cmy-AdD"
      },
      "source": [
        "y = pd.get_dummies(processed[\"category\"])"
      ],
      "id": "0uGB_cmy-AdD",
      "execution_count": null,
      "outputs": []
    },
    {
      "cell_type": "code",
      "metadata": {
        "id": "yX83NrRm-Eeb"
      },
      "source": [
        "X_train, X_test, y_train, y_test = train_test_split(X, y, \n",
        "                                                    train_size=0.7, \n",
        "                                                    test_size=0.3, \n",
        "                                                    random_state=42)"
      ],
      "id": "yX83NrRm-Eeb",
      "execution_count": null,
      "outputs": []
    },
    {
      "cell_type": "markdown",
      "metadata": {
        "id": "pBUvDOyf-YjX"
      },
      "source": [
        ""
      ],
      "id": "pBUvDOyf-YjX"
    },
    {
      "cell_type": "markdown",
      "metadata": {
        "id": "w-MnMiq--GNf"
      },
      "source": [
        "#### 🔹 Data Ingestion and Predictive Modeling"
      ],
      "id": "w-MnMiq--GNf"
    },
    {
      "cell_type": "code",
      "metadata": {
        "id": "gQVRICVE-GjX"
      },
      "source": [
        "# Embedding Layer for Token-Specific Vectorization\n",
        "input_embedding_layer = Embedding(500, 120, input_length=X.shape[1])\n",
        "\n",
        "# Dropout Regularizer for Text Embedding\n",
        "embedding_dropout_layer = SpatialDropout1D(0.4)\n",
        "\n",
        "# First Recurrent LSTM Cellular Architecture\n",
        "first_recurrent_layer = LSTM(176, \n",
        "                             dropout=0.2, \n",
        "                             recurrent_dropout=0.2, \n",
        "                             return_sequences=True)\n",
        "\n",
        "# Second Recurrent LSTM Cellular Architecture\n",
        "second_recurrent_layer = LSTM(176, \n",
        "                              dropout=0.2, \n",
        "                              recurrent_dropout=0.2)\n",
        "\n",
        "# Final Dense Layer for Output Extraction\n",
        "output_connective_layer = Dense(41, activation=\"softmax\")"
      ],
      "id": "gQVRICVE-GjX",
      "execution_count": null,
      "outputs": []
    },
    {
      "cell_type": "markdown",
      "metadata": {
        "id": "zWYSzf8I-gXU"
      },
      "source": [
        ""
      ],
      "id": "zWYSzf8I-gXU"
    },
    {
      "cell_type": "code",
      "metadata": {
        "colab": {
          "base_uri": "https://localhost:8080/"
        },
        "id": "ipJUv5oF-gn4",
        "outputId": "2293fb0a-cc45-4342-e4b4-0bae5f8fbbee"
      },
      "source": [
        "# Sequential Model Architecture Design\n",
        "model = Sequential()\n",
        "\n",
        "# Add All Initialized Layers in Effective Sequence\n",
        "model.add(input_embedding_layer)\n",
        "model.add(embedding_dropout_layer)\n",
        "model.add(first_recurrent_layer)\n",
        "model.add(second_recurrent_layer)\n",
        "model.add(output_connective_layer)\n",
        "\n",
        "# Get Model Summary for Confirmation\n",
        "model.summary()"
      ],
      "id": "ipJUv5oF-gn4",
      "execution_count": null,
      "outputs": [
        {
          "output_type": "stream",
          "name": "stdout",
          "text": [
            "Model: \"sequential_1\"\n",
            "_________________________________________________________________\n",
            "Layer (type)                 Output Shape              Param #   \n",
            "=================================================================\n",
            "embedding_1 (Embedding)      (None, 12, 120)           60000     \n",
            "_________________________________________________________________\n",
            "spatial_dropout1d_1 (Spatial (None, 12, 120)           0         \n",
            "_________________________________________________________________\n",
            "lstm_2 (LSTM)                (None, 12, 176)           209088    \n",
            "_________________________________________________________________\n",
            "lstm_3 (LSTM)                (None, 176)               248512    \n",
            "_________________________________________________________________\n",
            "dense_1 (Dense)              (None, 41)                7257      \n",
            "=================================================================\n",
            "Total params: 524,857\n",
            "Trainable params: 524,857\n",
            "Non-trainable params: 0\n",
            "_________________________________________________________________\n"
          ]
        }
      ]
    },
    {
      "cell_type": "markdown",
      "metadata": {
        "id": "Ry3YAc56-jjw"
      },
      "source": [
        ""
      ],
      "id": "Ry3YAc56-jjw"
    },
    {
      "cell_type": "code",
      "metadata": {
        "id": "_unX4M_x-iLv"
      },
      "source": [
        "# Compile Model with Specified Loss and Optimization Functions\n",
        "model.compile(loss=\"categorical_crossentropy\",\n",
        "              optimizer=\"nadam\",\n",
        "              metrics=[\"accuracy\"])"
      ],
      "id": "_unX4M_x-iLv",
      "execution_count": null,
      "outputs": []
    },
    {
      "cell_type": "markdown",
      "metadata": {
        "id": "DBzPk4o9-k_S"
      },
      "source": [
        ""
      ],
      "id": "DBzPk4o9-k_S"
    },
    {
      "cell_type": "code",
      "metadata": {
        "id": "6KGxuvPM-ktj"
      },
      "source": [
        "# Define Early Stopping Callback Optimizer\n",
        "callback = EarlyStopping(monitor=\"loss\", patience=3)\n",
        "\n",
        "# Define Batch Size and Epochs as Hyperparameters\n",
        "batch_size, epochs = 32, 10"
      ],
      "id": "6KGxuvPM-ktj",
      "execution_count": null,
      "outputs": []
    },
    {
      "cell_type": "markdown",
      "metadata": {
        "id": "XkLTnXq2-m4Y"
      },
      "source": [
        ""
      ],
      "id": "XkLTnXq2-m4Y"
    },
    {
      "cell_type": "code",
      "metadata": {
        "colab": {
          "base_uri": "https://localhost:8080/"
        },
        "id": "aTc3S4L5-nJC",
        "outputId": "c6b015ee-f761-4d78-b02e-769cb3e35045"
      },
      "source": [
        "# Fit Learning Model Using Training Data and Configured Hyperparameters\n",
        "history = model.fit(X_train, y_train,\n",
        "                    epochs=epochs,\n",
        "                    batch_size=batch_size,\n",
        "                    callbacks=[callback],\n",
        "                    verbose=True)"
      ],
      "id": "aTc3S4L5-nJC",
      "execution_count": null,
      "outputs": [
        {
          "output_type": "stream",
          "name": "stdout",
          "text": [
            "Epoch 1/10\n",
            "3259/3259 [==============================] - 369s 112ms/step - loss: 2.6683 - accuracy: 0.3221\n",
            "Epoch 2/10\n",
            "3259/3259 [==============================] - 362s 111ms/step - loss: 2.4255 - accuracy: 0.3769\n",
            "Epoch 3/10\n",
            "3259/3259 [==============================] - 397s 122ms/step - loss: 2.3597 - accuracy: 0.3894\n",
            "Epoch 4/10\n",
            "3259/3259 [==============================] - 424s 130ms/step - loss: 2.3194 - accuracy: 0.3955\n",
            "Epoch 5/10\n",
            "3259/3259 [==============================] - 394s 121ms/step - loss: 2.2889 - accuracy: 0.4013\n",
            "Epoch 6/10\n",
            "3259/3259 [==============================] - 384s 118ms/step - loss: 2.2630 - accuracy: 0.4059\n",
            "Epoch 7/10\n",
            "3259/3259 [==============================] - 375s 115ms/step - loss: 2.2412 - accuracy: 0.4101\n",
            "Epoch 8/10\n",
            "3259/3259 [==============================] - 386s 118ms/step - loss: 2.2224 - accuracy: 0.4135\n",
            "Epoch 9/10\n",
            "3259/3259 [==============================] - 405s 124ms/step - loss: 2.2000 - accuracy: 0.4170\n",
            "Epoch 10/10\n",
            "3259/3259 [==============================] - 422s 129ms/step - loss: 2.1845 - accuracy: 0.4198\n"
          ]
        }
      ]
    },
    {
      "cell_type": "code",
      "metadata": {
        "colab": {
          "base_uri": "https://localhost:8080/"
        },
        "id": "H2ZPFt-hN9pk",
        "outputId": "20ca8642-7327-4c6a-91b1-6da7d18ec8b8"
      },
      "source": [
        "# Evaluate Learned Model Using Testing Data\n",
        "model.evaluate(X_test, y_test)"
      ],
      "id": "H2ZPFt-hN9pk",
      "execution_count": null,
      "outputs": [
        {
          "output_type": "stream",
          "name": "stdout",
          "text": [
            "1397/1397 [==============================] - 27s 19ms/step - loss: 2.2946 - accuracy: 0.4046\n"
          ]
        },
        {
          "output_type": "execute_result",
          "data": {
            "text/plain": [
              "[2.2945611476898193, 0.40458664298057556]"
            ]
          },
          "metadata": {},
          "execution_count": 76
        }
      ]
    },
    {
      "cell_type": "code",
      "metadata": {
        "id": "VxdbjksmOAva"
      },
      "source": [
        "# Get Our Predicted Labels\n",
        "y_pred = pd.DataFrame(data=model.predict(X_test), columns=[0,1,2,3,4,5,6,7,8,9,10,11,12,13,14,15,16,17,18,19,20,21,22,23,24,25,26,27,28,29,30,31,32,33,34,35,36,37,38,39,40])\n",
        "y_pred = y_pred.apply(round, axis=1).astype(int)"
      ],
      "id": "VxdbjksmOAva",
      "execution_count": null,
      "outputs": []
    },
    {
      "cell_type": "code",
      "metadata": {
        "id": "qIKpDxtPOBI2"
      },
      "source": [
        "# Create Simple Confusion Matrix as 2D Array\n",
        "cmat = confusion_matrix(y_true=y_test.values.argmax(axis=1), \n",
        "                        y_pred=y_pred.values.argmax(axis=1))"
      ],
      "id": "qIKpDxtPOBI2",
      "execution_count": null,
      "outputs": []
    },
    {
      "cell_type": "code",
      "metadata": {
        "id": "jFXWtqB9OBfN"
      },
      "source": [
        "def cmat_(cm, labels=None):\n",
        "  \"\"\" Helper function to visualize confusion matrices. \"\"\"\n",
        "  ax = plt.subplot()\n",
        "  sns.heatmap(cm, annot=True, fmt=\"g\", cmap=\"YlGnBu\", linewidths=0.5, ax=ax)\n",
        "  \n",
        "  ax.set_title(\"Confusion Matrix\")\n",
        "  ax.set_xlabel(\"Predicted Labels\")\n",
        "  ax.set_ylabel(\"True Labels\")\n",
        "  \n",
        "  if labels:\n",
        "      ax.xaxis.set_ticklabels(labels)\n",
        "      ax.yaxis.set_ticklabels(labels)\n",
        "  plt.show()"
      ],
      "id": "jFXWtqB9OBfN",
      "execution_count": null,
      "outputs": []
    },
    {
      "cell_type": "code",
      "metadata": {
        "colab": {
          "base_uri": "https://localhost:8080/",
          "height": 295
        },
        "id": "HiINrCp4OEsa",
        "outputId": "8d574488-72d5-4fa3-f4df-997571fae407"
      },
      "source": [
        "# Render Confusion Matrix as Seaborn Heatmap Visualization\n",
        "cmat_(cmat)"
      ],
      "id": "HiINrCp4OEsa",
      "execution_count": null,
      "outputs": [
        {
          "output_type": "display_data",
          "data": {
            "image/png": "[encoded data removed]",
            "text/plain": [
              "<Figure size 432x288 with 2 Axes>"
            ]
          },
          "metadata": {
            "needs_background": "light"
          }
        }
      ]
    },
    {
      "cell_type": "code",
      "metadata": {
        "colab": {
          "base_uri": "https://localhost:8080/"
        },
        "id": "LcvlLuwzOH3G",
        "outputId": "33bb74a8-5536-4322-a35d-9260981903fc"
      },
      "source": [
        "# Create Classification Report with Summary Statistics/Metrics\n",
        "print(classification_report(y_true=y_test.values.argmax(axis=1),\n",
        "                            y_pred=y_pred.values.argmax(axis=1)))"
      ],
      "id": "LcvlLuwzOH3G",
      "execution_count": null,
      "outputs": [
        {
          "output_type": "stream",
          "name": "stdout",
          "text": [
            "              precision    recall  f1-score   support\n",
            "\n",
            "           0       0.01      0.88      0.02       257\n",
            "           1       0.41      0.10      0.17       356\n",
            "           2       0.57      0.18      0.27       981\n",
            "           3       0.74      0.07      0.13      1311\n",
            "           4       0.41      0.15      0.22       234\n",
            "           5       0.68      0.15      0.25      1114\n",
            "           6       0.54      0.06      0.11       575\n",
            "           7       0.67      0.01      0.02       185\n",
            "           8       0.90      0.35      0.51       529\n",
            "           9       0.60      0.02      0.04       258\n",
            "          10       0.62      0.28      0.39      3646\n",
            "          11       0.33      0.01      0.01       178\n",
            "          12       0.00      0.00      0.00       320\n",
            "          13       0.69      0.17      0.27      1324\n",
            "          14       0.20      0.01      0.01       271\n",
            "          15       0.60      0.01      0.02       506\n",
            "          16       0.47      0.04      0.08      1520\n",
            "          17       0.84      0.34      0.48      1097\n",
            "          18       0.48      0.02      0.03       870\n",
            "          19       0.00      0.00      0.00       279\n",
            "          20       0.41      0.10      0.16       592\n",
            "          21       0.38      0.01      0.01       425\n",
            "          22       0.49      0.11      0.18      1947\n",
            "          23       0.47      0.09      0.15      1030\n",
            "          24       0.74      0.62      0.68      8017\n",
            "          25       0.76      0.27      0.40      1433\n",
            "          26       0.67      0.05      0.09       524\n",
            "          27       0.48      0.08      0.14       444\n",
            "          28       0.61      0.11      0.19      1015\n",
            "          29       0.50      0.05      0.08       460\n",
            "          30       0.82      0.46      0.59      2180\n",
            "          31       0.33      0.01      0.01       566\n",
            "          32       0.59      0.13      0.22       504\n",
            "          33       0.42      0.03      0.05       639\n",
            "          34       0.66      0.32      0.43      2417\n",
            "          35       0.83      0.42      0.55       492\n",
            "          36       0.42      0.02      0.03       561\n",
            "          37       0.63      0.12      0.21      3827\n",
            "          38       0.67      0.04      0.07       856\n",
            "          39       0.44      0.01      0.02       557\n",
            "          40       0.44      0.02      0.03       398\n",
            "\n",
            "    accuracy                           0.25     44695\n",
            "   macro avg       0.52      0.14      0.18     44695\n",
            "weighted avg       0.62      0.25      0.32     44695\n",
            "\n"
          ]
        },
        {
          "output_type": "stream",
          "name": "stderr",
          "text": [
            "/usr/local/lib/python3.7/dist-packages/sklearn/metrics/_classification.py:1272: UndefinedMetricWarning: Precision and F-score are ill-defined and being set to 0.0 in labels with no predicted samples. Use `zero_division` parameter to control this behavior.\n",
            "  _warn_prf(average, modifier, msg_start, len(result))\n"
          ]
        }
      ]
    }
  ]
}